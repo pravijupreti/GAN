{
 "cells": [
  {
   "cell_type": "code",
   "execution_count": 11,
   "id": "4cee2c7e-e2aa-4449-a699-3e16b9eb0481",
   "metadata": {},
   "outputs": [],
   "source": [
    "import os\n",
    "from getpass import getpass"
   ]
  },
  {
   "cell_type": "code",
   "execution_count": 40,
   "id": "7cdac7d5-f789-4049-8ac3-5aed50788c0f",
   "metadata": {},
   "outputs": [
    {
     "name": "stdin",
     "output_type": "stream",
     "text": [
      " ········\n"
     ]
    }
   ],
   "source": [
    "HUGGINGFACEHUB_API_TOKEN = getpass.getpass()"
   ]
  },
  {
   "cell_type": "code",
   "execution_count": 42,
   "id": "234d6469-095c-444a-bcbe-2ee8e616b0c2",
   "metadata": {},
   "outputs": [],
   "source": [
    "os.environ['HUGGINGFACEHUB_API_TOKEN']=HUGGINGFACEHUB_API_TOKEN"
   ]
  },
  {
   "cell_type": "code",
   "execution_count": 44,
   "id": "b46b20f2-3f81-433e-8e4e-8b2d86114a96",
   "metadata": {},
   "outputs": [],
   "source": [
    "from langchain import HuggingFaceHub, PromptTemplate, LLMChain"
   ]
  },
  {
   "cell_type": "code",
   "execution_count": 46,
   "id": "a3af2b68-07fe-4e31-809b-3e8a0a3f6598",
   "metadata": {},
   "outputs": [],
   "source": [
    "template = '''Question:{question}\n",
    "Answer: Let's think step by step\n",
    "'''"
   ]
  },
  {
   "cell_type": "code",
   "execution_count": 48,
   "id": "0fa2fefb-beae-427c-a333-abec4307d983",
   "metadata": {},
   "outputs": [
    {
     "data": {
      "text/plain": [
       "\"Question:{question}\\nAnswer: Let's think step by step\\n\""
      ]
     },
     "execution_count": 48,
     "metadata": {},
     "output_type": "execute_result"
    }
   ],
   "source": [
    "template"
   ]
  },
  {
   "cell_type": "code",
   "execution_count": 50,
   "id": "1b8438fe-8d8a-49d9-be2a-ab44abd09fcf",
   "metadata": {},
   "outputs": [],
   "source": [
    "prompt = PromptTemplate(template=template,input_variables={'question'})"
   ]
  },
  {
   "cell_type": "code",
   "execution_count": 52,
   "id": "d5c16946-507e-415c-bf46-8c1ebf7eb70c",
   "metadata": {},
   "outputs": [
    {
     "data": {
      "text/plain": [
       "PromptTemplate(input_variables=['question'], input_types={}, partial_variables={}, template=\"Question:{question}\\nAnswer: Let's think step by step\\n\")"
      ]
     },
     "execution_count": 52,
     "metadata": {},
     "output_type": "execute_result"
    }
   ],
   "source": [
    "prompt"
   ]
  },
  {
   "cell_type": "code",
   "execution_count": 54,
   "id": "d2b67f40-0d98-4123-808a-4b71441151e9",
   "metadata": {},
   "outputs": [],
   "source": [
    "llm = HuggingFaceHub(repo_id='mistralai/Mixtral-8x7B-Instruct-v0.1',model_kwargs={'temperature':0.6,'max_length':100})"
   ]
  },
  {
   "cell_type": "code",
   "execution_count": 55,
   "id": "f1b494a8-1b65-4386-be16-6f71fd4dc0ae",
   "metadata": {},
   "outputs": [
    {
     "data": {
      "text/plain": [
       "HuggingFaceHub(client=<InferenceClient(model='mistralai/Mixtral-8x7B-Instruct-v0.1', timeout=None)>, repo_id='mistralai/Mixtral-8x7B-Instruct-v0.1', task='text-generation', model_kwargs={'temperature': 0.6, 'max_length': 100})"
      ]
     },
     "execution_count": 55,
     "metadata": {},
     "output_type": "execute_result"
    }
   ],
   "source": [
    "llm"
   ]
  },
  {
   "cell_type": "code",
   "execution_count": 74,
   "id": "e9219a1a-cae0-4e39-a860-66bb08066931",
   "metadata": {},
   "outputs": [],
   "source": [
    "question = 'who is butcher in dota2'"
   ]
  },
  {
   "cell_type": "code",
   "execution_count": 76,
   "id": "7a699053-bdae-4913-9328-5455c3b3f5b4",
   "metadata": {},
   "outputs": [
    {
     "name": "stdout",
     "output_type": "stream",
     "text": [
      "who is butcher in dota2\n",
      "\n",
      "Butcher is a term used to refer to the Dota 2 hero Pudge. Pudge's in-game name is \"Pudge, the Butcher.\" He is a strength hero who excels at harassing and killing enemies with his hook ability, which pulls enemies towards him, and his flesh heap ability, which heals him based on the damage he deals to enemy heroes. Pudge is known for his high skill ceiling and is often considered one of the most difficult heroes to play well in Dota 2.\n"
     ]
    }
   ],
   "source": [
    "print(llm.invoke(question))"
   ]
  },
  {
   "cell_type": "code",
   "execution_count": null,
   "id": "0d1e38b1-a5e6-4e9e-989a-f1e767ff9d55",
   "metadata": {},
   "outputs": [],
   "source": []
  }
 ],
 "metadata": {
  "kernelspec": {
   "display_name": "Python [conda env:base] *",
   "language": "python",
   "name": "conda-base-py"
  },
  "language_info": {
   "codemirror_mode": {
    "name": "ipython",
    "version": 3
   },
   "file_extension": ".py",
   "mimetype": "text/x-python",
   "name": "python",
   "nbconvert_exporter": "python",
   "pygments_lexer": "ipython3",
   "version": "3.12.7"
  }
 },
 "nbformat": 4,
 "nbformat_minor": 5
}
